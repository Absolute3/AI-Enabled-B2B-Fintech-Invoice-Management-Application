{
 "cells": [
  {
   "cell_type": "code",
   "execution_count": null,
   "id": "8933d4f8",
   "metadata": {},
   "outputs": [
    {
     "name": "stdout",
     "output_type": "stream",
     "text": [
      " * Serving Flask app \"__main__\" (lazy loading)\n",
      " * Environment: production\n",
      "\u001b[31m   WARNING: This is a development server. Do not use it in a production deployment.\u001b[0m\n",
      "\u001b[2m   Use a production WSGI server instead.\u001b[0m\n",
      " * Debug mode: off\n"
     ]
    },
    {
     "name": "stderr",
     "output_type": "stream",
     "text": [
      " * Running on http://127.0.0.1:5000/ (Press CTRL+C to quit)\n",
      "127.0.0.1 - - [14/Apr/2022 12:36:42] \"OPTIONS / HTTP/1.1\" 200 -\n"
     ]
    },
    {
     "name": "stdout",
     "output_type": "stream",
     "text": [
      "{'name_customer': 'PIO associates', 'business_code': 'U001', 'cust_number': 200769623, 'clear_date': '2020-02-11', 'buisness_year': 2020, 'doc_id': '1930438491', 'posting_date': '2020-01-26', 'due_in_date': '2020-02-10', 'baseline_create_date': '2020-01-26', 'cust_payment_terms': 'NAH4', 'converted_usd': 54273.28}\n",
      "{'name_customer': 'PIO associates', 'business_code': 'U001', 'cust_number': 200769623, 'clear_date': '2020-02-11', 'buisness_year': 2020, 'doc_id': '1930438491', 'posting_date': '2020-01-26', 'due_in_date': '2020-02-10', 'baseline_create_date': '2020-01-26', 'cust_payment_terms': 'NAH4', 'converted_usd': 54273.28}\n",
      "Predict\n"
     ]
    },
    {
     "name": "stderr",
     "output_type": "stream",
     "text": [
      "127.0.0.1 - - [14/Apr/2022 12:36:43] \"POST / HTTP/1.1\" 200 -\n",
      "127.0.0.1 - - [14/Apr/2022 12:38:10] \"OPTIONS / HTTP/1.1\" 200 -\n"
     ]
    },
    {
     "name": "stdout",
     "output_type": "stream",
     "text": [
      "{'name_customer': 'PIO associates', 'business_code': 'U001', 'cust_number': 200769623, 'clear_date': '2020-02-11', 'buisness_year': 2020, 'doc_id': '1930438491', 'posting_date': '2020-01-26', 'due_in_date': '2020-02-10', 'baseline_create_date': '2020-01-26', 'cust_payment_terms': 'NAH4', 'converted_usd': 54273.28}\n",
      "{'name_customer': 'PIO associates', 'business_code': 'U001', 'cust_number': 200769623, 'clear_date': '2020-02-11', 'buisness_year': 2020, 'doc_id': '1930438491', 'posting_date': '2020-01-26', 'due_in_date': '2020-02-10', 'baseline_create_date': '2020-01-26', 'cust_payment_terms': 'NAH4', 'converted_usd': 54273.28}\n",
      "Predict\n"
     ]
    },
    {
     "name": "stderr",
     "output_type": "stream",
     "text": [
      "127.0.0.1 - - [14/Apr/2022 12:38:10] \"POST / HTTP/1.1\" 200 -\n",
      "127.0.0.1 - - [14/Apr/2022 12:38:44] \"OPTIONS / HTTP/1.1\" 200 -\n"
     ]
    },
    {
     "name": "stdout",
     "output_type": "stream",
     "text": [
      "{'name_customer': 'PIO associates', 'business_code': 'U001', 'cust_number': 200769623, 'clear_date': '2020-02-11', 'buisness_year': 2020, 'doc_id': '1930438491', 'posting_date': '2020-01-26', 'due_in_date': '2020-02-10', 'baseline_create_date': '2020-01-26', 'cust_payment_terms': 'NAH4', 'converted_usd': 54273.28}\n",
      "{'name_customer': 'PIO associates', 'business_code': 'U001', 'cust_number': 200769623, 'clear_date': '2020-02-11', 'buisness_year': 2020, 'doc_id': '1930438491', 'posting_date': '2020-01-26', 'due_in_date': '2020-02-10', 'baseline_create_date': '2020-01-26', 'cust_payment_terms': 'NAH4', 'converted_usd': 54273.28}\n",
      "Predict\n"
     ]
    },
    {
     "name": "stderr",
     "output_type": "stream",
     "text": [
      "127.0.0.1 - - [14/Apr/2022 12:38:44] \"POST / HTTP/1.1\" 200 -\n",
      "127.0.0.1 - - [14/Apr/2022 12:38:52] \"OPTIONS / HTTP/1.1\" 200 -\n"
     ]
    },
    {
     "name": "stdout",
     "output_type": "stream",
     "text": [
      "{'name_customer': 'PIO associates', 'business_code': 'U001', 'cust_number': 200769623, 'clear_date': '2020-02-11', 'buisness_year': 2020, 'doc_id': '1930438491', 'posting_date': '2020-01-26', 'due_in_date': '2020-02-10', 'baseline_create_date': '2020-01-26', 'cust_payment_terms': 'NAH4', 'converted_usd': 54273.28}\n",
      "{'name_customer': 'PIO associates', 'business_code': 'U001', 'cust_number': 200769623, 'clear_date': '2020-02-11', 'buisness_year': 2020, 'doc_id': '1930438491', 'posting_date': '2020-01-26', 'due_in_date': '2020-02-10', 'baseline_create_date': '2020-01-26', 'cust_payment_terms': 'NAH4', 'converted_usd': 54273.28}\n",
      "Predict\n"
     ]
    },
    {
     "name": "stderr",
     "output_type": "stream",
     "text": [
      "127.0.0.1 - - [14/Apr/2022 12:38:52] \"POST / HTTP/1.1\" 200 -\n",
      "127.0.0.1 - - [14/Apr/2022 12:39:33] \"OPTIONS / HTTP/1.1\" 200 -\n"
     ]
    },
    {
     "name": "stdout",
     "output_type": "stream",
     "text": [
      "{'name_customer': 'PIO associates', 'business_code': 'U001', 'cust_number': 200769623, 'clear_date': '2020-02-11', 'buisness_year': 2020, 'doc_id': '1930438491', 'posting_date': '2020-01-26', 'due_in_date': '2020-02-10', 'baseline_create_date': '2020-01-26', 'cust_payment_terms': 'NAH4', 'converted_usd': 54273.28}\n",
      "{'name_customer': 'PIO associates', 'business_code': 'U001', 'cust_number': 200769623, 'clear_date': '2020-02-11', 'buisness_year': 2020, 'doc_id': '1930438491', 'posting_date': '2020-01-26', 'due_in_date': '2020-02-10', 'baseline_create_date': '2020-01-26', 'cust_payment_terms': 'NAH4', 'converted_usd': 54273.28}\n",
      "Predict\n"
     ]
    },
    {
     "name": "stderr",
     "output_type": "stream",
     "text": [
      "127.0.0.1 - - [14/Apr/2022 12:39:34] \"POST / HTTP/1.1\" 200 -\n"
     ]
    },
    {
     "name": "stdout",
     "output_type": "stream",
     "text": [
      "{'name_customer': 'PIO associates', 'business_code': 'U001', 'cust_number': 200769623, 'clear_date': '2020-02-11', 'buisness_year': 2020, 'doc_id': '1930438491', 'posting_date': '2020-01-26', 'due_in_date': '2020-02-10', 'baseline_create_date': '2020-01-26', 'cust_payment_terms': 'NAH4', 'converted_usd': 54273.28}\n",
      "{'name_customer': 'PIO associates', 'business_code': 'U001', 'cust_number': 200769623, 'clear_date': '2020-02-11', 'buisness_year': 2020, 'doc_id': '1930438491', 'posting_date': '2020-01-26', 'due_in_date': '2020-02-10', 'baseline_create_date': '2020-01-26', 'cust_payment_terms': 'NAH4', 'converted_usd': 54273.28}\n",
      "Predict\n"
     ]
    },
    {
     "name": "stderr",
     "output_type": "stream",
     "text": [
      "127.0.0.1 - - [14/Apr/2022 12:39:35] \"POST / HTTP/1.1\" 200 -\n",
      "127.0.0.1 - - [14/Apr/2022 12:40:08] \"OPTIONS / HTTP/1.1\" 200 -\n"
     ]
    },
    {
     "name": "stdout",
     "output_type": "stream",
     "text": [
      "{'name_customer': 'PIO associates', 'business_code': 'U001', 'cust_number': 200769623, 'clear_date': '2020-02-11', 'buisness_year': 2020, 'doc_id': '1930438491', 'posting_date': '2020-01-26', 'due_in_date': '2020-02-10', 'baseline_create_date': '2020-01-26', 'cust_payment_terms': 'NAH4', 'converted_usd': 54273.28}\n",
      "{'name_customer': 'PIO associates', 'business_code': 'U001', 'cust_number': 200769623, 'clear_date': '2020-02-11', 'buisness_year': 2020, 'doc_id': '1930438491', 'posting_date': '2020-01-26', 'due_in_date': '2020-02-10', 'baseline_create_date': '2020-01-26', 'cust_payment_terms': 'NAH4', 'converted_usd': 54273.28}\n",
      "Predict\n"
     ]
    },
    {
     "name": "stderr",
     "output_type": "stream",
     "text": [
      "127.0.0.1 - - [14/Apr/2022 12:40:09] \"POST / HTTP/1.1\" 200 -\n",
      "127.0.0.1 - - [14/Apr/2022 12:40:36] \"OPTIONS / HTTP/1.1\" 200 -\n"
     ]
    },
    {
     "name": "stdout",
     "output_type": "stream",
     "text": [
      "{'name_customer': 'PIO associates', 'business_code': 'U001', 'cust_number': 200769623, 'clear_date': '2020-02-11', 'buisness_year': 2020, 'doc_id': '1930438491', 'posting_date': '2020-01-26', 'due_in_date': '2020-02-10', 'baseline_create_date': '2020-01-26', 'cust_payment_terms': 'NAH4', 'converted_usd': 54273.28}\n",
      "{'name_customer': 'PIO associates', 'business_code': 'U001', 'cust_number': 200769623, 'clear_date': '2020-02-11', 'buisness_year': 2020, 'doc_id': '1930438491', 'posting_date': '2020-01-26', 'due_in_date': '2020-02-10', 'baseline_create_date': '2020-01-26', 'cust_payment_terms': 'NAH4', 'converted_usd': 54273.28}\n",
      "Predict\n"
     ]
    },
    {
     "name": "stderr",
     "output_type": "stream",
     "text": [
      "127.0.0.1 - - [14/Apr/2022 12:40:36] \"POST / HTTP/1.1\" 200 -\n",
      "127.0.0.1 - - [14/Apr/2022 12:41:48] \"OPTIONS / HTTP/1.1\" 200 -\n"
     ]
    },
    {
     "name": "stdout",
     "output_type": "stream",
     "text": [
      "{'name_customer': 'PIO associates', 'business_code': 'U001', 'cust_number': 200769623, 'clear_date': '2020-02-11', 'buisness_year': 2020, 'doc_id': '1930438491', 'posting_date': '2020-01-26', 'due_in_date': '2020-02-10', 'baseline_create_date': '2020-01-26', 'cust_payment_terms': 'NAH4', 'converted_usd': 54273.28}\n",
      "{'name_customer': 'PIO associates', 'business_code': 'U001', 'cust_number': 200769623, 'clear_date': '2020-02-11', 'buisness_year': 2020, 'doc_id': '1930438491', 'posting_date': '2020-01-26', 'due_in_date': '2020-02-10', 'baseline_create_date': '2020-01-26', 'cust_payment_terms': 'NAH4', 'converted_usd': 54273.28}\n",
      "Predict\n"
     ]
    },
    {
     "name": "stderr",
     "output_type": "stream",
     "text": [
      "127.0.0.1 - - [14/Apr/2022 12:41:49] \"POST / HTTP/1.1\" 200 -\n",
      "127.0.0.1 - - [14/Apr/2022 12:42:03] \"OPTIONS / HTTP/1.1\" 200 -\n"
     ]
    },
    {
     "name": "stdout",
     "output_type": "stream",
     "text": [
      "{'name_customer': 'PIO associates', 'business_code': 'U001', 'cust_number': 200769623, 'clear_date': '2020-02-11', 'buisness_year': 2020, 'doc_id': '1930438491', 'posting_date': '2020-01-26', 'due_in_date': '2020-02-10', 'baseline_create_date': '2020-01-26', 'cust_payment_terms': 'NAH4', 'converted_usd': 54273.28}\n",
      "{'name_customer': 'PIO associates', 'business_code': 'U001', 'cust_number': 200769623, 'clear_date': '2020-02-11', 'buisness_year': 2020, 'doc_id': '1930438491', 'posting_date': '2020-01-26', 'due_in_date': '2020-02-10', 'baseline_create_date': '2020-01-26', 'cust_payment_terms': 'NAH4', 'converted_usd': 54273.28}\n",
      "Predict\n"
     ]
    },
    {
     "name": "stderr",
     "output_type": "stream",
     "text": [
      "127.0.0.1 - - [14/Apr/2022 12:42:04] \"POST / HTTP/1.1\" 200 -\n",
      "127.0.0.1 - - [14/Apr/2022 12:42:29] \"OPTIONS / HTTP/1.1\" 200 -\n"
     ]
    },
    {
     "name": "stdout",
     "output_type": "stream",
     "text": [
      "{'name_customer': 'PIO associates', 'business_code': 'U001', 'cust_number': 200769623, 'clear_date': '2020-02-11', 'buisness_year': 2020, 'doc_id': '1930438491', 'posting_date': '2020-01-26', 'due_in_date': '2020-02-10', 'baseline_create_date': '2020-01-26', 'cust_payment_terms': 'NAH4', 'converted_usd': 54273.28}\n",
      "{'name_customer': 'PIO associates', 'business_code': 'U001', 'cust_number': 200769623, 'clear_date': '2020-02-11', 'buisness_year': 2020, 'doc_id': '1930438491', 'posting_date': '2020-01-26', 'due_in_date': '2020-02-10', 'baseline_create_date': '2020-01-26', 'cust_payment_terms': 'NAH4', 'converted_usd': 54273.28}\n",
      "Predict\n"
     ]
    },
    {
     "name": "stderr",
     "output_type": "stream",
     "text": [
      "127.0.0.1 - - [14/Apr/2022 12:42:30] \"POST / HTTP/1.1\" 200 -\n",
      "127.0.0.1 - - [14/Apr/2022 12:42:43] \"OPTIONS / HTTP/1.1\" 200 -\n"
     ]
    },
    {
     "name": "stdout",
     "output_type": "stream",
     "text": [
      "{'name_customer': 'PIO associates', 'business_code': 'U001', 'cust_number': 200769623, 'clear_date': '2020-02-11', 'buisness_year': 2020, 'doc_id': '1930438491', 'posting_date': '2020-01-26', 'due_in_date': '2020-02-10', 'baseline_create_date': '2020-01-26', 'cust_payment_terms': 'NAH4', 'converted_usd': 54273.28}\n",
      "{'name_customer': 'PIO associates', 'business_code': 'U001', 'cust_number': 200769623, 'clear_date': '2020-02-11', 'buisness_year': 2020, 'doc_id': '1930438491', 'posting_date': '2020-01-26', 'due_in_date': '2020-02-10', 'baseline_create_date': '2020-01-26', 'cust_payment_terms': 'NAH4', 'converted_usd': 54273.28}\n",
      "Predict\n"
     ]
    },
    {
     "name": "stderr",
     "output_type": "stream",
     "text": [
      "127.0.0.1 - - [14/Apr/2022 12:42:43] \"POST / HTTP/1.1\" 200 -\n",
      "127.0.0.1 - - [14/Apr/2022 12:42:52] \"OPTIONS / HTTP/1.1\" 200 -\n"
     ]
    },
    {
     "name": "stdout",
     "output_type": "stream",
     "text": [
      "{'name_customer': 'PIO associates', 'business_code': 'U001', 'cust_number': 200769623, 'clear_date': '2020-02-11', 'buisness_year': 2020, 'doc_id': '1930438491', 'posting_date': '2020-01-26', 'due_in_date': '2020-02-10', 'baseline_create_date': '2020-01-26', 'cust_payment_terms': 'NAH4', 'converted_usd': 54273.28}\n",
      "{'name_customer': 'PIO associates', 'business_code': 'U001', 'cust_number': 200769623, 'clear_date': '2020-02-11', 'buisness_year': 2020, 'doc_id': '1930438491', 'posting_date': '2020-01-26', 'due_in_date': '2020-02-10', 'baseline_create_date': '2020-01-26', 'cust_payment_terms': 'NAH4', 'converted_usd': 54273.28}\n",
      "Predict\n"
     ]
    },
    {
     "name": "stderr",
     "output_type": "stream",
     "text": [
      "127.0.0.1 - - [14/Apr/2022 12:42:52] \"POST / HTTP/1.1\" 200 -\n",
      "127.0.0.1 - - [14/Apr/2022 12:43:02] \"OPTIONS / HTTP/1.1\" 200 -\n"
     ]
    },
    {
     "name": "stdout",
     "output_type": "stream",
     "text": [
      "{'name_customer': 'PIO associates', 'business_code': 'U001', 'cust_number': 200769623, 'clear_date': '2020-02-11', 'buisness_year': 2020, 'doc_id': '1930438491', 'posting_date': '2020-01-26', 'due_in_date': '2020-02-10', 'baseline_create_date': '2020-01-26', 'cust_payment_terms': 'NAH4', 'converted_usd': 54273.28}\n",
      "{'name_customer': 'PIO associates', 'business_code': 'U001', 'cust_number': 200769623, 'clear_date': '2020-02-11', 'buisness_year': 2020, 'doc_id': '1930438491', 'posting_date': '2020-01-26', 'due_in_date': '2020-02-10', 'baseline_create_date': '2020-01-26', 'cust_payment_terms': 'NAH4', 'converted_usd': 54273.28}\n",
      "Predict\n"
     ]
    },
    {
     "name": "stderr",
     "output_type": "stream",
     "text": [
      "127.0.0.1 - - [14/Apr/2022 12:43:03] \"POST / HTTP/1.1\" 200 -\n",
      "127.0.0.1 - - [14/Apr/2022 12:43:21] \"OPTIONS / HTTP/1.1\" 200 -\n"
     ]
    },
    {
     "name": "stdout",
     "output_type": "stream",
     "text": [
      "{'name_customer': 'PIO associates', 'business_code': 'U001', 'cust_number': 200769623, 'clear_date': '2020-02-11', 'buisness_year': 2020, 'doc_id': '1930438491', 'posting_date': '2020-01-26', 'due_in_date': '2020-02-10', 'baseline_create_date': '2020-01-26', 'cust_payment_terms': 'NAH4', 'converted_usd': 54273.28}\n",
      "{'name_customer': 'PIO associates', 'business_code': 'U001', 'cust_number': 200769623, 'clear_date': '2020-02-11', 'buisness_year': 2020, 'doc_id': '1930438491', 'posting_date': '2020-01-26', 'due_in_date': '2020-02-10', 'baseline_create_date': '2020-01-26', 'cust_payment_terms': 'NAH4', 'converted_usd': 54273.28}\n",
      "Predict\n"
     ]
    },
    {
     "name": "stderr",
     "output_type": "stream",
     "text": [
      "127.0.0.1 - - [14/Apr/2022 12:43:22] \"POST / HTTP/1.1\" 200 -\n",
      "127.0.0.1 - - [14/Apr/2022 12:43:46] \"OPTIONS / HTTP/1.1\" 200 -\n"
     ]
    },
    {
     "name": "stdout",
     "output_type": "stream",
     "text": [
      "{'name_customer': 'PIO associates', 'business_code': 'U001', 'cust_number': 200769623, 'clear_date': '2020-02-11', 'buisness_year': 2020, 'doc_id': '1930438491', 'posting_date': '2020-01-26', 'due_in_date': '2020-02-10', 'baseline_create_date': '2020-01-26', 'cust_payment_terms': 'NAH4', 'converted_usd': 54273.28}\n",
      "{'name_customer': 'PIO associates', 'business_code': 'U001', 'cust_number': 200769623, 'clear_date': '2020-02-11', 'buisness_year': 2020, 'doc_id': '1930438491', 'posting_date': '2020-01-26', 'due_in_date': '2020-02-10', 'baseline_create_date': '2020-01-26', 'cust_payment_terms': 'NAH4', 'converted_usd': 54273.28}\n",
      "Predict\n"
     ]
    },
    {
     "name": "stderr",
     "output_type": "stream",
     "text": [
      "127.0.0.1 - - [14/Apr/2022 12:43:46] \"POST / HTTP/1.1\" 200 -\n",
      "127.0.0.1 - - [14/Apr/2022 12:44:08] \"OPTIONS / HTTP/1.1\" 200 -\n"
     ]
    },
    {
     "name": "stdout",
     "output_type": "stream",
     "text": [
      "{'name_customer': 'PIO associates', 'business_code': 'U001', 'cust_number': 200769623, 'clear_date': '2020-02-11', 'buisness_year': 2020, 'doc_id': '1930438491', 'posting_date': '2020-01-26', 'due_in_date': '2020-02-10', 'baseline_create_date': '2020-01-26', 'cust_payment_terms': 'NAH4', 'converted_usd': 54273.28}\n",
      "{'name_customer': 'PIO associates', 'business_code': 'U001', 'cust_number': 200769623, 'clear_date': '2020-02-11', 'buisness_year': 2020, 'doc_id': '1930438491', 'posting_date': '2020-01-26', 'due_in_date': '2020-02-10', 'baseline_create_date': '2020-01-26', 'cust_payment_terms': 'NAH4', 'converted_usd': 54273.28}\n",
      "Predict\n"
     ]
    },
    {
     "name": "stderr",
     "output_type": "stream",
     "text": [
      "127.0.0.1 - - [14/Apr/2022 12:44:09] \"POST / HTTP/1.1\" 200 -\n",
      "127.0.0.1 - - [14/Apr/2022 12:44:41] \"OPTIONS / HTTP/1.1\" 200 -\n"
     ]
    },
    {
     "name": "stdout",
     "output_type": "stream",
     "text": [
      "{'name_customer': 'PIO associates', 'business_code': 'U001', 'cust_number': 200769623, 'clear_date': '2020-02-11', 'buisness_year': 2020, 'doc_id': '1930438491', 'posting_date': '2020-01-26', 'due_in_date': '2020-02-10', 'baseline_create_date': '2020-01-26', 'cust_payment_terms': 'NAH4', 'converted_usd': 54273.28}\n",
      "{'name_customer': 'PIO associates', 'business_code': 'U001', 'cust_number': 200769623, 'clear_date': '2020-02-11', 'buisness_year': 2020, 'doc_id': '1930438491', 'posting_date': '2020-01-26', 'due_in_date': '2020-02-10', 'baseline_create_date': '2020-01-26', 'cust_payment_terms': 'NAH4', 'converted_usd': 54273.28}\n",
      "Predict\n"
     ]
    },
    {
     "name": "stderr",
     "output_type": "stream",
     "text": [
      "127.0.0.1 - - [14/Apr/2022 12:44:42] \"POST / HTTP/1.1\" 200 -\n",
      "127.0.0.1 - - [14/Apr/2022 12:46:28] \"OPTIONS / HTTP/1.1\" 200 -\n"
     ]
    },
    {
     "name": "stdout",
     "output_type": "stream",
     "text": [
      "{'name_customer': 'PIO associates', 'business_code': 'U001', 'cust_number': 200769623, 'clear_date': '2020-02-11', 'buisness_year': 2020, 'doc_id': '1930438491', 'posting_date': '2020-01-26', 'due_in_date': '2020-02-10', 'baseline_create_date': '2020-01-26', 'cust_payment_terms': 'NAH4', 'converted_usd': 54273.28}\n",
      "{'name_customer': 'PIO associates', 'business_code': 'U001', 'cust_number': 200769623, 'clear_date': '2020-02-11', 'buisness_year': 2020, 'doc_id': '1930438491', 'posting_date': '2020-01-26', 'due_in_date': '2020-02-10', 'baseline_create_date': '2020-01-26', 'cust_payment_terms': 'NAH4', 'converted_usd': 54273.28}\n",
      "Predict\n"
     ]
    },
    {
     "name": "stderr",
     "output_type": "stream",
     "text": [
      "127.0.0.1 - - [14/Apr/2022 12:46:29] \"POST / HTTP/1.1\" 200 -\n",
      "127.0.0.1 - - [14/Apr/2022 12:49:55] \"OPTIONS / HTTP/1.1\" 200 -\n"
     ]
    },
    {
     "name": "stdout",
     "output_type": "stream",
     "text": [
      "{'name_customer': 'PIO associates', 'business_code': 'U001', 'cust_number': 200769623, 'clear_date': '2020-02-11', 'buisness_year': 2020, 'doc_id': '1930438491', 'posting_date': '2020-01-26', 'due_in_date': '2020-02-10', 'baseline_create_date': '2020-01-26', 'cust_payment_terms': 'NAH4', 'converted_usd': 54273.28}\n",
      "{'name_customer': 'PIO associates', 'business_code': 'U001', 'cust_number': 200769623, 'clear_date': '2020-02-11', 'buisness_year': 2020, 'doc_id': '1930438491', 'posting_date': '2020-01-26', 'due_in_date': '2020-02-10', 'baseline_create_date': '2020-01-26', 'cust_payment_terms': 'NAH4', 'converted_usd': 54273.28}\n",
      "Predict\n"
     ]
    },
    {
     "name": "stderr",
     "output_type": "stream",
     "text": [
      "127.0.0.1 - - [14/Apr/2022 12:49:55] \"POST / HTTP/1.1\" 200 -\n",
      "127.0.0.1 - - [14/Apr/2022 12:50:13] \"OPTIONS / HTTP/1.1\" 200 -\n"
     ]
    },
    {
     "name": "stdout",
     "output_type": "stream",
     "text": [
      "{'name_customer': 'PIO associates', 'business_code': 'U001', 'cust_number': 200769623, 'clear_date': '2020-02-11', 'buisness_year': 2020, 'doc_id': '1930438491', 'posting_date': '2020-01-26', 'due_in_date': '2020-02-10', 'baseline_create_date': '2020-01-26', 'cust_payment_terms': 'NAH4', 'converted_usd': 54273.28}\n",
      "{'name_customer': 'PIO associates', 'business_code': 'U001', 'cust_number': 200769623, 'clear_date': '2020-02-11', 'buisness_year': 2020, 'doc_id': '1930438491', 'posting_date': '2020-01-26', 'due_in_date': '2020-02-10', 'baseline_create_date': '2020-01-26', 'cust_payment_terms': 'NAH4', 'converted_usd': 54273.28}\n",
      "Predict\n"
     ]
    },
    {
     "name": "stderr",
     "output_type": "stream",
     "text": [
      "127.0.0.1 - - [14/Apr/2022 12:50:14] \"POST / HTTP/1.1\" 200 -\n",
      "127.0.0.1 - - [14/Apr/2022 12:52:48] \"OPTIONS / HTTP/1.1\" 200 -\n"
     ]
    },
    {
     "name": "stdout",
     "output_type": "stream",
     "text": [
      "{'name_customer': 'PIO associates', 'business_code': 'U001', 'cust_number': 200769623, 'clear_date': '2020-02-11', 'buisness_year': 2020, 'doc_id': '1930438491', 'posting_date': '2020-01-26', 'due_in_date': '2020-02-10', 'baseline_create_date': '2020-01-26', 'cust_payment_terms': 'NAH4', 'converted_usd': 54273.28}\n",
      "{'name_customer': 'PIO associates', 'business_code': 'U001', 'cust_number': 200769623, 'clear_date': '2020-02-11', 'buisness_year': 2020, 'doc_id': '1930438491', 'posting_date': '2020-01-26', 'due_in_date': '2020-02-10', 'baseline_create_date': '2020-01-26', 'cust_payment_terms': 'NAH4', 'converted_usd': 54273.28}\n",
      "Predict\n"
     ]
    },
    {
     "name": "stderr",
     "output_type": "stream",
     "text": [
      "127.0.0.1 - - [14/Apr/2022 12:52:48] \"POST / HTTP/1.1\" 200 -\n",
      "127.0.0.1 - - [14/Apr/2022 12:53:37] \"OPTIONS / HTTP/1.1\" 200 -\n"
     ]
    },
    {
     "name": "stdout",
     "output_type": "stream",
     "text": [
      "{'name_customer': 'PIO associates', 'business_code': 'U001', 'cust_number': 200769623, 'clear_date': '2020-02-11', 'buisness_year': 2020, 'doc_id': '1930438491', 'posting_date': '2020-01-26', 'due_in_date': '2020-02-10', 'baseline_create_date': '2020-01-26', 'cust_payment_terms': 'NAH4', 'converted_usd': 54273.28}\n",
      "{'name_customer': 'PIO associates', 'business_code': 'U001', 'cust_number': 200769623, 'clear_date': '2020-02-11', 'buisness_year': 2020, 'doc_id': '1930438491', 'posting_date': '2020-01-26', 'due_in_date': '2020-02-10', 'baseline_create_date': '2020-01-26', 'cust_payment_terms': 'NAH4', 'converted_usd': 54273.28}\n",
      "Predict\n"
     ]
    },
    {
     "name": "stderr",
     "output_type": "stream",
     "text": [
      "127.0.0.1 - - [14/Apr/2022 12:53:38] \"POST / HTTP/1.1\" 200 -\n",
      "127.0.0.1 - - [14/Apr/2022 12:54:46] \"OPTIONS / HTTP/1.1\" 200 -\n"
     ]
    },
    {
     "name": "stdout",
     "output_type": "stream",
     "text": [
      "{'name_customer': 'PIO associates', 'business_code': 'U001', 'cust_number': 200769623, 'clear_date': '2020-02-11', 'buisness_year': 2020, 'doc_id': '1930438491', 'posting_date': '2020-01-26', 'due_in_date': '2020-02-10', 'baseline_create_date': '2020-01-26', 'cust_payment_terms': 'NAH4', 'converted_usd': 54273.28}\n",
      "{'name_customer': 'PIO associates', 'business_code': 'U001', 'cust_number': 200769623, 'clear_date': '2020-02-11', 'buisness_year': 2020, 'doc_id': '1930438491', 'posting_date': '2020-01-26', 'due_in_date': '2020-02-10', 'baseline_create_date': '2020-01-26', 'cust_payment_terms': 'NAH4', 'converted_usd': 54273.28}\n",
      "Predict\n"
     ]
    },
    {
     "name": "stderr",
     "output_type": "stream",
     "text": [
      "127.0.0.1 - - [14/Apr/2022 12:54:46] \"POST / HTTP/1.1\" 200 -\n",
      "127.0.0.1 - - [14/Apr/2022 12:55:25] \"OPTIONS / HTTP/1.1\" 200 -\n"
     ]
    },
    {
     "name": "stdout",
     "output_type": "stream",
     "text": [
      "{'name_customer': 'PIO associates', 'business_code': 'U001', 'cust_number': 200769623, 'clear_date': '2020-02-11', 'buisness_year': 2020, 'doc_id': '1930438491', 'posting_date': '2020-01-26', 'due_in_date': '2020-02-10', 'baseline_create_date': '2020-01-26', 'cust_payment_terms': 'NAH4', 'converted_usd': 54273.28}\n",
      "{'name_customer': 'PIO associates', 'business_code': 'U001', 'cust_number': 200769623, 'clear_date': '2020-02-11', 'buisness_year': 2020, 'doc_id': '1930438491', 'posting_date': '2020-01-26', 'due_in_date': '2020-02-10', 'baseline_create_date': '2020-01-26', 'cust_payment_terms': 'NAH4', 'converted_usd': 54273.28}\n",
      "Predict\n"
     ]
    },
    {
     "name": "stderr",
     "output_type": "stream",
     "text": [
      "127.0.0.1 - - [14/Apr/2022 12:55:26] \"POST / HTTP/1.1\" 200 -\n",
      "127.0.0.1 - - [14/Apr/2022 12:55:56] \"OPTIONS / HTTP/1.1\" 200 -\n"
     ]
    },
    {
     "name": "stdout",
     "output_type": "stream",
     "text": [
      "{'name_customer': 'PIO associates', 'business_code': 'U001', 'cust_number': 200769623, 'clear_date': '2020-02-11', 'buisness_year': 2020, 'doc_id': '1930438491', 'posting_date': '2020-01-26', 'due_in_date': '2020-02-10', 'baseline_create_date': '2020-01-26', 'cust_payment_terms': 'NAH4', 'converted_usd': 54273.28}\n",
      "{'name_customer': 'PIO associates', 'business_code': 'U001', 'cust_number': 200769623, 'clear_date': '2020-02-11', 'buisness_year': 2020, 'doc_id': '1930438491', 'posting_date': '2020-01-26', 'due_in_date': '2020-02-10', 'baseline_create_date': '2020-01-26', 'cust_payment_terms': 'NAH4', 'converted_usd': 54273.28}\n",
      "Predict\n"
     ]
    },
    {
     "name": "stderr",
     "output_type": "stream",
     "text": [
      "127.0.0.1 - - [14/Apr/2022 12:55:57] \"POST / HTTP/1.1\" 200 -\n",
      "127.0.0.1 - - [14/Apr/2022 12:56:34] \"OPTIONS / HTTP/1.1\" 200 -\n"
     ]
    },
    {
     "name": "stdout",
     "output_type": "stream",
     "text": [
      "{'name_customer': 'SYS systems', 'business_code': 'U001', 'cust_number': 200980828, 'clear_date': '2019-08-08', 'buisness_year': 2019, 'doc_id': '1929646410', 'posting_date': '2019-07-22', 'due_in_date': '2019-08-11', 'baseline_create_date': '2019-07-22', 'cust_payment_terms': 'NAD1', 'converted_usd': 79656.6}\n",
      "{'name_customer': 'SYS systems', 'business_code': 'U001', 'cust_number': 200980828, 'clear_date': '2019-08-08', 'buisness_year': 2019, 'doc_id': '1929646410', 'posting_date': '2019-07-22', 'due_in_date': '2019-08-11', 'baseline_create_date': '2019-07-22', 'cust_payment_terms': 'NAD1', 'converted_usd': 79656.6}\n",
      "Predict\n"
     ]
    },
    {
     "name": "stderr",
     "output_type": "stream",
     "text": [
      "127.0.0.1 - - [14/Apr/2022 12:56:35] \"POST / HTTP/1.1\" 200 -\n",
      "127.0.0.1 - - [14/Apr/2022 12:57:06] \"OPTIONS / HTTP/1.1\" 200 -\n"
     ]
    },
    {
     "name": "stdout",
     "output_type": "stream",
     "text": [
      "{'name_customer': 'SYS systems', 'business_code': 'U001', 'cust_number': 200980828, 'clear_date': '2019-08-08', 'buisness_year': 2019, 'doc_id': '1929646410', 'posting_date': '2019-07-22', 'due_in_date': '2019-08-11', 'baseline_create_date': '2019-07-22', 'cust_payment_terms': 'NAD1', 'converted_usd': 79656.6}\n",
      "{'name_customer': 'SYS systems', 'business_code': 'U001', 'cust_number': 200980828, 'clear_date': '2019-08-08', 'buisness_year': 2019, 'doc_id': '1929646410', 'posting_date': '2019-07-22', 'due_in_date': '2019-08-11', 'baseline_create_date': '2019-07-22', 'cust_payment_terms': 'NAD1', 'converted_usd': 79656.6}\n",
      "Predict\n"
     ]
    },
    {
     "name": "stderr",
     "output_type": "stream",
     "text": [
      "127.0.0.1 - - [14/Apr/2022 12:57:06] \"POST / HTTP/1.1\" 200 -\n",
      "127.0.0.1 - - [14/Apr/2022 12:57:24] \"OPTIONS / HTTP/1.1\" 200 -\n"
     ]
    },
    {
     "name": "stdout",
     "output_type": "stream",
     "text": [
      "{'name_customer': 'SYS systems', 'business_code': 'U001', 'cust_number': 200980828, 'clear_date': '2019-08-08', 'buisness_year': 2019, 'doc_id': '1929646410', 'posting_date': '2019-07-22', 'due_in_date': '2019-08-11', 'baseline_create_date': '2019-07-22', 'cust_payment_terms': 'NAD1', 'converted_usd': 79656.6}\n",
      "{'name_customer': 'SYS systems', 'business_code': 'U001', 'cust_number': 200980828, 'clear_date': '2019-08-08', 'buisness_year': 2019, 'doc_id': '1929646410', 'posting_date': '2019-07-22', 'due_in_date': '2019-08-11', 'baseline_create_date': '2019-07-22', 'cust_payment_terms': 'NAD1', 'converted_usd': 79656.6}\n",
      "Predict\n"
     ]
    },
    {
     "name": "stderr",
     "output_type": "stream",
     "text": [
      "127.0.0.1 - - [14/Apr/2022 12:57:24] \"POST / HTTP/1.1\" 200 -\n",
      "127.0.0.1 - - [14/Apr/2022 12:57:29] \"OPTIONS / HTTP/1.1\" 200 -\n"
     ]
    },
    {
     "name": "stdout",
     "output_type": "stream",
     "text": [
      "{'name_customer': 'SYS systems', 'business_code': 'U001', 'cust_number': 200980828, 'clear_date': '2019-08-08', 'buisness_year': 2019, 'doc_id': '1929646410', 'posting_date': '2019-07-22', 'due_in_date': '2019-08-11', 'baseline_create_date': '2019-07-22', 'cust_payment_terms': 'NAD1', 'converted_usd': 79656.6}\n",
      "{'name_customer': 'SYS systems', 'business_code': 'U001', 'cust_number': 200980828, 'clear_date': '2019-08-08', 'buisness_year': 2019, 'doc_id': '1929646410', 'posting_date': '2019-07-22', 'due_in_date': '2019-08-11', 'baseline_create_date': '2019-07-22', 'cust_payment_terms': 'NAD1', 'converted_usd': 79656.6}\n",
      "Predict\n"
     ]
    },
    {
     "name": "stderr",
     "output_type": "stream",
     "text": [
      "127.0.0.1 - - [14/Apr/2022 12:57:30] \"POST / HTTP/1.1\" 200 -\n",
      "127.0.0.1 - - [14/Apr/2022 12:57:49] \"OPTIONS / HTTP/1.1\" 200 -\n"
     ]
    },
    {
     "name": "stdout",
     "output_type": "stream",
     "text": [
      "{'name_customer': 'SYS systems', 'business_code': 'U001', 'cust_number': 200980828, 'clear_date': '2019-08-08', 'buisness_year': 2019, 'doc_id': '1929646410', 'posting_date': '2019-07-22', 'due_in_date': '2019-08-11', 'baseline_create_date': '2019-07-22', 'cust_payment_terms': 'NAD1', 'converted_usd': 79656.6}\n",
      "{'name_customer': 'SYS systems', 'business_code': 'U001', 'cust_number': 200980828, 'clear_date': '2019-08-08', 'buisness_year': 2019, 'doc_id': '1929646410', 'posting_date': '2019-07-22', 'due_in_date': '2019-08-11', 'baseline_create_date': '2019-07-22', 'cust_payment_terms': 'NAD1', 'converted_usd': 79656.6}\n",
      "Predict\n"
     ]
    },
    {
     "name": "stderr",
     "output_type": "stream",
     "text": [
      "127.0.0.1 - - [14/Apr/2022 12:57:49] \"POST / HTTP/1.1\" 200 -\n",
      "127.0.0.1 - - [14/Apr/2022 12:58:20] \"OPTIONS / HTTP/1.1\" 200 -\n"
     ]
    },
    {
     "name": "stdout",
     "output_type": "stream",
     "text": [
      "{'name_customer': 'SYS systems', 'business_code': 'U001', 'cust_number': 200980828, 'clear_date': '2019-08-08', 'buisness_year': 2019, 'doc_id': '1929646410', 'posting_date': '2019-07-22', 'due_in_date': '2019-08-11', 'baseline_create_date': '2019-07-22', 'cust_payment_terms': 'NAD1', 'converted_usd': 79656.6}\n",
      "{'name_customer': 'SYS systems', 'business_code': 'U001', 'cust_number': 200980828, 'clear_date': '2019-08-08', 'buisness_year': 2019, 'doc_id': '1929646410', 'posting_date': '2019-07-22', 'due_in_date': '2019-08-11', 'baseline_create_date': '2019-07-22', 'cust_payment_terms': 'NAD1', 'converted_usd': 79656.6}\n",
      "Predict\n"
     ]
    },
    {
     "name": "stderr",
     "output_type": "stream",
     "text": [
      "127.0.0.1 - - [14/Apr/2022 12:58:21] \"POST / HTTP/1.1\" 200 -\n",
      "127.0.0.1 - - [14/Apr/2022 12:58:31] \"OPTIONS / HTTP/1.1\" 200 -\n"
     ]
    },
    {
     "name": "stdout",
     "output_type": "stream",
     "text": [
      "{'name_customer': 'SYS systems', 'business_code': 'U001', 'cust_number': 200980828, 'clear_date': '2019-08-08', 'buisness_year': 2019, 'doc_id': '1929646410', 'posting_date': '2019-07-22', 'due_in_date': '2019-08-11', 'baseline_create_date': '2019-07-22', 'cust_payment_terms': 'NAD1', 'converted_usd': 79656.6}\n",
      "{'name_customer': 'SYS systems', 'business_code': 'U001', 'cust_number': 200980828, 'clear_date': '2019-08-08', 'buisness_year': 2019, 'doc_id': '1929646410', 'posting_date': '2019-07-22', 'due_in_date': '2019-08-11', 'baseline_create_date': '2019-07-22', 'cust_payment_terms': 'NAD1', 'converted_usd': 79656.6}\n",
      "Predict\n"
     ]
    },
    {
     "name": "stderr",
     "output_type": "stream",
     "text": [
      "127.0.0.1 - - [14/Apr/2022 12:58:32] \"POST / HTTP/1.1\" 200 -\n",
      "127.0.0.1 - - [14/Apr/2022 12:58:39] \"OPTIONS / HTTP/1.1\" 200 -\n"
     ]
    },
    {
     "name": "stdout",
     "output_type": "stream",
     "text": [
      "{'name_customer': 'SYS systems', 'business_code': 'U001', 'cust_number': 200980828, 'clear_date': '2019-08-08', 'buisness_year': 2019, 'doc_id': '1929646410', 'posting_date': '2019-07-22', 'due_in_date': '2019-08-11', 'baseline_create_date': '2019-07-22', 'cust_payment_terms': 'NAD1', 'converted_usd': 79656.6}\n",
      "{'name_customer': 'SYS systems', 'business_code': 'U001', 'cust_number': 200980828, 'clear_date': '2019-08-08', 'buisness_year': 2019, 'doc_id': '1929646410', 'posting_date': '2019-07-22', 'due_in_date': '2019-08-11', 'baseline_create_date': '2019-07-22', 'cust_payment_terms': 'NAD1', 'converted_usd': 79656.6}\n",
      "Predict\n"
     ]
    },
    {
     "name": "stderr",
     "output_type": "stream",
     "text": [
      "127.0.0.1 - - [14/Apr/2022 12:58:39] \"POST / HTTP/1.1\" 200 -\n",
      "127.0.0.1 - - [14/Apr/2022 12:58:53] \"OPTIONS / HTTP/1.1\" 200 -\n"
     ]
    },
    {
     "name": "stdout",
     "output_type": "stream",
     "text": [
      "{'name_customer': 'SYS systems', 'business_code': 'U001', 'cust_number': 200980828, 'clear_date': '2019-08-08', 'buisness_year': 2019, 'doc_id': '1929646410', 'posting_date': '2019-07-22', 'due_in_date': '2019-08-11', 'baseline_create_date': '2019-07-22', 'cust_payment_terms': 'NAD1', 'converted_usd': 79656.6}\n",
      "{'name_customer': 'SYS systems', 'business_code': 'U001', 'cust_number': 200980828, 'clear_date': '2019-08-08', 'buisness_year': 2019, 'doc_id': '1929646410', 'posting_date': '2019-07-22', 'due_in_date': '2019-08-11', 'baseline_create_date': '2019-07-22', 'cust_payment_terms': 'NAD1', 'converted_usd': 79656.6}\n",
      "Predict\n"
     ]
    },
    {
     "name": "stderr",
     "output_type": "stream",
     "text": [
      "127.0.0.1 - - [14/Apr/2022 12:58:54] \"POST / HTTP/1.1\" 200 -\n",
      "127.0.0.1 - - [14/Apr/2022 13:00:26] \"OPTIONS / HTTP/1.1\" 200 -\n"
     ]
    },
    {
     "name": "stdout",
     "output_type": "stream",
     "text": [
      "{'name_customer': 'SYS systems', 'business_code': 'U001', 'cust_number': 200980828, 'clear_date': '2019-08-08', 'buisness_year': 2019, 'doc_id': '1929646410', 'posting_date': '2019-07-22', 'due_in_date': '2019-08-11', 'baseline_create_date': '2019-07-22', 'cust_payment_terms': 'NAD1', 'converted_usd': 79656.6}\n",
      "{'name_customer': 'SYS systems', 'business_code': 'U001', 'cust_number': 200980828, 'clear_date': '2019-08-08', 'buisness_year': 2019, 'doc_id': '1929646410', 'posting_date': '2019-07-22', 'due_in_date': '2019-08-11', 'baseline_create_date': '2019-07-22', 'cust_payment_terms': 'NAD1', 'converted_usd': 79656.6}\n",
      "Predict\n"
     ]
    },
    {
     "name": "stderr",
     "output_type": "stream",
     "text": [
      "127.0.0.1 - - [14/Apr/2022 13:00:27] \"POST / HTTP/1.1\" 200 -\n",
      "127.0.0.1 - - [14/Apr/2022 13:01:08] \"OPTIONS / HTTP/1.1\" 200 -\n"
     ]
    },
    {
     "name": "stdout",
     "output_type": "stream",
     "text": [
      "{'name_customer': 'SYS systems', 'business_code': 'U001', 'cust_number': 200980828, 'clear_date': '2019-08-08', 'buisness_year': 2019, 'doc_id': '1929646410', 'posting_date': '2019-07-22', 'due_in_date': '2019-08-11', 'baseline_create_date': '2019-07-22', 'cust_payment_terms': 'NAD1', 'converted_usd': 79656.6}\n",
      "{'name_customer': 'SYS systems', 'business_code': 'U001', 'cust_number': 200980828, 'clear_date': '2019-08-08', 'buisness_year': 2019, 'doc_id': '1929646410', 'posting_date': '2019-07-22', 'due_in_date': '2019-08-11', 'baseline_create_date': '2019-07-22', 'cust_payment_terms': 'NAD1', 'converted_usd': 79656.6}\n",
      "Predict\n"
     ]
    },
    {
     "name": "stderr",
     "output_type": "stream",
     "text": [
      "127.0.0.1 - - [14/Apr/2022 13:01:09] \"POST / HTTP/1.1\" 200 -\n",
      "127.0.0.1 - - [14/Apr/2022 13:01:22] \"OPTIONS / HTTP/1.1\" 200 -\n"
     ]
    },
    {
     "name": "stdout",
     "output_type": "stream",
     "text": [
      "{'name_customer': 'SYS systems', 'business_code': 'U001', 'cust_number': 200980828, 'clear_date': '2019-08-08', 'buisness_year': 2019, 'doc_id': '1929646410', 'posting_date': '2019-07-22', 'due_in_date': '2019-08-11', 'baseline_create_date': '2019-07-22', 'cust_payment_terms': 'NAD1', 'converted_usd': 79656.6}\n",
      "{'name_customer': 'SYS systems', 'business_code': 'U001', 'cust_number': 200980828, 'clear_date': '2019-08-08', 'buisness_year': 2019, 'doc_id': '1929646410', 'posting_date': '2019-07-22', 'due_in_date': '2019-08-11', 'baseline_create_date': '2019-07-22', 'cust_payment_terms': 'NAD1', 'converted_usd': 79656.6}\n",
      "Predict\n"
     ]
    },
    {
     "name": "stderr",
     "output_type": "stream",
     "text": [
      "127.0.0.1 - - [14/Apr/2022 13:01:22] \"POST / HTTP/1.1\" 200 -\n",
      "127.0.0.1 - - [14/Apr/2022 13:01:29] \"OPTIONS / HTTP/1.1\" 200 -\n"
     ]
    },
    {
     "name": "stdout",
     "output_type": "stream",
     "text": [
      "{'name_customer': 'SYS systems', 'business_code': 'U001', 'cust_number': 200980828, 'clear_date': '2019-08-08', 'buisness_year': 2019, 'doc_id': '1929646410', 'posting_date': '2019-07-22', 'due_in_date': '2019-08-11', 'baseline_create_date': '2019-07-22', 'cust_payment_terms': 'NAD1', 'converted_usd': 79656.6}\n",
      "{'name_customer': 'SYS systems', 'business_code': 'U001', 'cust_number': 200980828, 'clear_date': '2019-08-08', 'buisness_year': 2019, 'doc_id': '1929646410', 'posting_date': '2019-07-22', 'due_in_date': '2019-08-11', 'baseline_create_date': '2019-07-22', 'cust_payment_terms': 'NAD1', 'converted_usd': 79656.6}\n",
      "Predict\n"
     ]
    },
    {
     "name": "stderr",
     "output_type": "stream",
     "text": [
      "127.0.0.1 - - [14/Apr/2022 13:01:29] \"POST / HTTP/1.1\" 200 -\n",
      "127.0.0.1 - - [14/Apr/2022 13:01:37] \"OPTIONS / HTTP/1.1\" 200 -\n"
     ]
    },
    {
     "name": "stdout",
     "output_type": "stream",
     "text": [
      "{'name_customer': 'SYS systems', 'business_code': 'U001', 'cust_number': 200980828, 'clear_date': '2019-08-08', 'buisness_year': 2019, 'doc_id': '1929646410', 'posting_date': '2019-07-22', 'due_in_date': '2019-08-11', 'baseline_create_date': '2019-07-22', 'cust_payment_terms': 'NAD1', 'converted_usd': 79656.6}\n",
      "{'name_customer': 'SYS systems', 'business_code': 'U001', 'cust_number': 200980828, 'clear_date': '2019-08-08', 'buisness_year': 2019, 'doc_id': '1929646410', 'posting_date': '2019-07-22', 'due_in_date': '2019-08-11', 'baseline_create_date': '2019-07-22', 'cust_payment_terms': 'NAD1', 'converted_usd': 79656.6}\n",
      "Predict\n"
     ]
    },
    {
     "name": "stderr",
     "output_type": "stream",
     "text": [
      "127.0.0.1 - - [14/Apr/2022 13:01:38] \"POST / HTTP/1.1\" 200 -\n",
      "127.0.0.1 - - [14/Apr/2022 13:02:28] \"OPTIONS / HTTP/1.1\" 200 -\n"
     ]
    },
    {
     "name": "stdout",
     "output_type": "stream",
     "text": [
      "{'name_customer': 'SYS systems', 'business_code': 'U001', 'cust_number': 200980828, 'clear_date': '2019-08-08', 'buisness_year': 2019, 'doc_id': '1929646410', 'posting_date': '2019-07-22', 'due_in_date': '2019-08-11', 'baseline_create_date': '2019-07-22', 'cust_payment_terms': 'NAD1', 'converted_usd': 79656.6}\n",
      "{'name_customer': 'SYS systems', 'business_code': 'U001', 'cust_number': 200980828, 'clear_date': '2019-08-08', 'buisness_year': 2019, 'doc_id': '1929646410', 'posting_date': '2019-07-22', 'due_in_date': '2019-08-11', 'baseline_create_date': '2019-07-22', 'cust_payment_terms': 'NAD1', 'converted_usd': 79656.6}\n",
      "Predict\n"
     ]
    },
    {
     "name": "stderr",
     "output_type": "stream",
     "text": [
      "127.0.0.1 - - [14/Apr/2022 13:02:29] \"POST / HTTP/1.1\" 200 -\n",
      "127.0.0.1 - - [14/Apr/2022 13:02:59] \"OPTIONS / HTTP/1.1\" 200 -\n"
     ]
    },
    {
     "name": "stdout",
     "output_type": "stream",
     "text": [
      "{'name_customer': 'SUPERB us', 'business_code': 'U001', 'cust_number': 200792734, 'clear_date': '2019-12-30', 'buisness_year': 2019, 'doc_id': '1929873765', 'posting_date': '2019-09-14', 'due_in_date': '2019-09-29', 'baseline_create_date': '2019-09-14', 'cust_payment_terms': 'NAA8', 'converted_usd': 2253.86}\n",
      "{'name_customer': 'SUPERB us', 'business_code': 'U001', 'cust_number': 200792734, 'clear_date': '2019-12-30', 'buisness_year': 2019, 'doc_id': '1929873765', 'posting_date': '2019-09-14', 'due_in_date': '2019-09-29', 'baseline_create_date': '2019-09-14', 'cust_payment_terms': 'NAA8', 'converted_usd': 2253.86}\n",
      "Predict\n"
     ]
    },
    {
     "name": "stderr",
     "output_type": "stream",
     "text": [
      "127.0.0.1 - - [14/Apr/2022 13:02:59] \"POST / HTTP/1.1\" 200 -\n"
     ]
    },
    {
     "name": "stdout",
     "output_type": "stream",
     "text": [
      "{'name_customer': 'SUPERB us', 'business_code': 'U001', 'cust_number': 200792734, 'clear_date': '2019-12-30', 'buisness_year': 2019, 'doc_id': '1929873765', 'posting_date': '2019-09-14', 'due_in_date': '2019-09-29', 'baseline_create_date': '2019-09-14', 'cust_payment_terms': 'NAA8', 'converted_usd': 2253.86}\n",
      "{'name_customer': 'SUPERB us', 'business_code': 'U001', 'cust_number': 200792734, 'clear_date': '2019-12-30', 'buisness_year': 2019, 'doc_id': '1929873765', 'posting_date': '2019-09-14', 'due_in_date': '2019-09-29', 'baseline_create_date': '2019-09-14', 'cust_payment_terms': 'NAA8', 'converted_usd': 2253.86}\n",
      "Predict\n"
     ]
    },
    {
     "name": "stderr",
     "output_type": "stream",
     "text": [
      "127.0.0.1 - - [14/Apr/2022 13:03:04] \"POST / HTTP/1.1\" 200 -\n",
      "127.0.0.1 - - [14/Apr/2022 13:03:17] \"OPTIONS / HTTP/1.1\" 200 -\n"
     ]
    },
    {
     "name": "stdout",
     "output_type": "stream",
     "text": [
      "{'name_customer': 'SUPERB us', 'business_code': 'U001', 'cust_number': 200792734, 'clear_date': '2019-12-30', 'buisness_year': 2019, 'doc_id': '1929873765', 'posting_date': '2019-09-14', 'due_in_date': '2019-09-29', 'baseline_create_date': '2019-09-14', 'cust_payment_terms': 'NAA8', 'converted_usd': 2253.86}\n",
      "{'name_customer': 'SUPERB us', 'business_code': 'U001', 'cust_number': 200792734, 'clear_date': '2019-12-30', 'buisness_year': 2019, 'doc_id': '1929873765', 'posting_date': '2019-09-14', 'due_in_date': '2019-09-29', 'baseline_create_date': '2019-09-14', 'cust_payment_terms': 'NAA8', 'converted_usd': 2253.86}\n",
      "Predict\n"
     ]
    },
    {
     "name": "stderr",
     "output_type": "stream",
     "text": [
      "127.0.0.1 - - [14/Apr/2022 13:03:17] \"POST / HTTP/1.1\" 200 -\n",
      "127.0.0.1 - - [14/Apr/2022 13:03:22] \"OPTIONS / HTTP/1.1\" 200 -\n"
     ]
    },
    {
     "name": "stdout",
     "output_type": "stream",
     "text": [
      "{'name_customer': 'SUPERB us', 'business_code': 'U001', 'cust_number': 200792734, 'clear_date': '2019-12-30', 'buisness_year': 2019, 'doc_id': '1929873765', 'posting_date': '2019-09-14', 'due_in_date': '2019-09-29', 'baseline_create_date': '2019-09-14', 'cust_payment_terms': 'NAA8', 'converted_usd': 2253.86}\n",
      "{'name_customer': 'SUPERB us', 'business_code': 'U001', 'cust_number': 200792734, 'clear_date': '2019-12-30', 'buisness_year': 2019, 'doc_id': '1929873765', 'posting_date': '2019-09-14', 'due_in_date': '2019-09-29', 'baseline_create_date': '2019-09-14', 'cust_payment_terms': 'NAA8', 'converted_usd': 2253.86}\n",
      "Predict\n"
     ]
    },
    {
     "name": "stderr",
     "output_type": "stream",
     "text": [
      "127.0.0.1 - - [14/Apr/2022 13:03:22] \"POST / HTTP/1.1\" 200 -\n",
      "127.0.0.1 - - [14/Apr/2022 13:03:57] \"OPTIONS / HTTP/1.1\" 200 -\n",
      "[2022-04-14 13:03:57,879] ERROR in app: Exception on / [POST]\n",
      "Traceback (most recent call last):\n",
      "  File \"C:\\Users\\Abhishek\\anaconda3\\lib\\site-packages\\flask\\app.py\", line 2447, in wsgi_app\n",
      "    response = self.full_dispatch_request()\n",
      "  File \"C:\\Users\\Abhishek\\anaconda3\\lib\\site-packages\\flask\\app.py\", line 1952, in full_dispatch_request\n",
      "    rv = self.handle_user_exception(e)\n",
      "  File \"C:\\Users\\Abhishek\\anaconda3\\lib\\site-packages\\flask_cors\\extension.py\", line 165, in wrapped_function\n",
      "    return cors_after_request(app.make_response(f(*args, **kwargs)))\n",
      "  File \"C:\\Users\\Abhishek\\anaconda3\\lib\\site-packages\\flask\\app.py\", line 1821, in handle_user_exception\n",
      "    reraise(exc_type, exc_value, tb)\n",
      "  File \"C:\\Users\\Abhishek\\anaconda3\\lib\\site-packages\\flask\\_compat.py\", line 39, in reraise\n",
      "    raise value\n",
      "  File \"C:\\Users\\Abhishek\\anaconda3\\lib\\site-packages\\flask\\app.py\", line 1950, in full_dispatch_request\n",
      "    rv = self.dispatch_request()\n",
      "  File \"C:\\Users\\Abhishek\\anaconda3\\lib\\site-packages\\flask\\app.py\", line 1936, in dispatch_request\n",
      "    return self.view_functions[rule.endpoint](**req.view_args)\n",
      "  File \"C:\\Users\\Abhishek\\AppData\\Local\\Temp/ipykernel_19356/4224947579.py\", line 18, in home\n",
      "    clear_date = request.json['clear_date']\n",
      "KeyError: 'clear_date'\n",
      "127.0.0.1 - - [14/Apr/2022 13:03:57] \"POST / HTTP/1.1\" 500 -\n"
     ]
    },
    {
     "name": "stdout",
     "output_type": "stream",
     "text": [
      "{'name_customer': 'SING co', 'business_code': 'CA02', 'cust_number': 140105686, 'buisness_year': 2020, 'doc_id': '2960623488', 'posting_date': '2020-03-30', 'due_in_date': '2020-04-10', 'baseline_create_date': '2020-03-31', 'cust_payment_terms': 'CA10', 'converted_usd': 2606.763}\n"
     ]
    },
    {
     "name": "stderr",
     "output_type": "stream",
     "text": [
      "127.0.0.1 - - [14/Apr/2022 13:04:31] \"OPTIONS / HTTP/1.1\" 200 -\n"
     ]
    },
    {
     "name": "stdout",
     "output_type": "stream",
     "text": [
      "{'name_customer': 'PIO associates', 'business_code': 'U001', 'cust_number': 200769623, 'clear_date': '2019-11-25', 'buisness_year': 2019, 'doc_id': '1930147974', 'posting_date': '2019-11-13', 'due_in_date': '2019-11-28', 'baseline_create_date': '2019-11-13', 'cust_payment_terms': 'NAH4', 'converted_usd': 33133.29}\n",
      "{'name_customer': 'PIO associates', 'business_code': 'U001', 'cust_number': 200769623, 'clear_date': '2019-11-25', 'buisness_year': 2019, 'doc_id': '1930147974', 'posting_date': '2019-11-13', 'due_in_date': '2019-11-28', 'baseline_create_date': '2019-11-13', 'cust_payment_terms': 'NAH4', 'converted_usd': 33133.29}\n",
      "Predict\n"
     ]
    },
    {
     "name": "stderr",
     "output_type": "stream",
     "text": [
      "127.0.0.1 - - [14/Apr/2022 13:04:31] \"POST / HTTP/1.1\" 200 -\n",
      "127.0.0.1 - - [14/Apr/2022 13:07:08] \"OPTIONS / HTTP/1.1\" 200 -\n"
     ]
    },
    {
     "name": "stdout",
     "output_type": "stream",
     "text": [
      "{'name_customer': 'PIO associates', 'business_code': 'U001', 'cust_number': 200769623, 'clear_date': '2020-02-11', 'buisness_year': 2020, 'doc_id': '1930438491', 'posting_date': '2020-01-26', 'due_in_date': '2020-02-10', 'baseline_create_date': '2020-01-26', 'cust_payment_terms': 'NAH4', 'converted_usd': 54273.28}\n",
      "{'name_customer': 'PIO associates', 'business_code': 'U001', 'cust_number': 200769623, 'clear_date': '2020-02-11', 'buisness_year': 2020, 'doc_id': '1930438491', 'posting_date': '2020-01-26', 'due_in_date': '2020-02-10', 'baseline_create_date': '2020-01-26', 'cust_payment_terms': 'NAH4', 'converted_usd': 54273.28}\n",
      "Predict\n"
     ]
    },
    {
     "name": "stderr",
     "output_type": "stream",
     "text": [
      "127.0.0.1 - - [14/Apr/2022 13:07:09] \"POST / HTTP/1.1\" 200 -\n",
      "127.0.0.1 - - [14/Apr/2022 13:07:20] \"OPTIONS / HTTP/1.1\" 200 -\n",
      "127.0.0.1 - - [14/Apr/2022 13:07:30] \"OPTIONS / HTTP/1.1\" 200 -\n"
     ]
    },
    {
     "name": "stdout",
     "output_type": "stream",
     "text": [
      "{'name_customer': 'SYS systems', 'business_code': 'U001', 'cust_number': 200980828, 'clear_date': '2019-08-08', 'buisness_year': 2019, 'doc_id': '1929646410', 'posting_date': '2019-07-22', 'due_in_date': '2019-08-11', 'baseline_create_date': '2019-07-22', 'cust_payment_terms': 'NAD1', 'converted_usd': 79656.6}\n",
      "{'name_customer': 'SYS systems', 'business_code': 'U001', 'cust_number': 200980828, 'clear_date': '2019-08-08', 'buisness_year': 2019, 'doc_id': '1929646410', 'posting_date': '2019-07-22', 'due_in_date': '2019-08-11', 'baseline_create_date': '2019-07-22', 'cust_payment_terms': 'NAD1', 'converted_usd': 79656.6}\n",
      "Predict\n"
     ]
    },
    {
     "name": "stderr",
     "output_type": "stream",
     "text": [
      "127.0.0.1 - - [14/Apr/2022 13:07:30] \"POST / HTTP/1.1\" 200 -\n",
      "127.0.0.1 - - [14/Apr/2022 13:07:38] \"OPTIONS / HTTP/1.1\" 200 -\n"
     ]
    },
    {
     "name": "stdout",
     "output_type": "stream",
     "text": [
      "{'name_customer': 'SYS systems', 'business_code': 'U001', 'cust_number': 200980828, 'clear_date': '2019-08-08', 'buisness_year': 2019, 'doc_id': '1929646410', 'posting_date': '2019-07-22', 'due_in_date': '2019-08-11', 'baseline_create_date': '2019-07-22', 'cust_payment_terms': 'NAD1', 'converted_usd': 79656.6}\n",
      "{'name_customer': 'SYS systems', 'business_code': 'U001', 'cust_number': 200980828, 'clear_date': '2019-08-08', 'buisness_year': 2019, 'doc_id': '1929646410', 'posting_date': '2019-07-22', 'due_in_date': '2019-08-11', 'baseline_create_date': '2019-07-22', 'cust_payment_terms': 'NAD1', 'converted_usd': 79656.6}\n",
      "Predict\n"
     ]
    },
    {
     "name": "stderr",
     "output_type": "stream",
     "text": [
      "127.0.0.1 - - [14/Apr/2022 13:07:38] \"POST / HTTP/1.1\" 200 -\n",
      "127.0.0.1 - - [14/Apr/2022 13:07:44] \"OPTIONS / HTTP/1.1\" 200 -\n"
     ]
    },
    {
     "name": "stdout",
     "output_type": "stream",
     "text": [
      "{'name_customer': 'SUPERB us', 'business_code': 'U001', 'cust_number': 200792734, 'clear_date': '2019-12-30', 'buisness_year': 2019, 'doc_id': '1929873765', 'posting_date': '2019-09-14', 'due_in_date': '2019-09-29', 'baseline_create_date': '2019-09-14', 'cust_payment_terms': 'NAA8', 'converted_usd': 2253.86}\n",
      "{'name_customer': 'SUPERB us', 'business_code': 'U001', 'cust_number': 200792734, 'clear_date': '2019-12-30', 'buisness_year': 2019, 'doc_id': '1929873765', 'posting_date': '2019-09-14', 'due_in_date': '2019-09-29', 'baseline_create_date': '2019-09-14', 'cust_payment_terms': 'NAA8', 'converted_usd': 2253.86}\n",
      "Predict\n"
     ]
    },
    {
     "name": "stderr",
     "output_type": "stream",
     "text": [
      "127.0.0.1 - - [14/Apr/2022 13:07:44] \"POST / HTTP/1.1\" 200 -\n",
      "127.0.0.1 - - [14/Apr/2022 13:08:04] \"OPTIONS / HTTP/1.1\" 200 -\n"
     ]
    },
    {
     "name": "stdout",
     "output_type": "stream",
     "text": [
      "{'name_customer': 'PIO associates', 'business_code': 'U001', 'cust_number': 200769623, 'clear_date': '2019-11-25', 'buisness_year': 2019, 'doc_id': '1930147974', 'posting_date': '2019-11-13', 'due_in_date': '2019-11-28', 'baseline_create_date': '2019-11-13', 'cust_payment_terms': 'NAH4', 'converted_usd': 33133.29}\n",
      "{'name_customer': 'PIO associates', 'business_code': 'U001', 'cust_number': 200769623, 'clear_date': '2019-11-25', 'buisness_year': 2019, 'doc_id': '1930147974', 'posting_date': '2019-11-13', 'due_in_date': '2019-11-28', 'baseline_create_date': '2019-11-13', 'cust_payment_terms': 'NAH4', 'converted_usd': 33133.29}\n",
      "Predict\n"
     ]
    },
    {
     "name": "stderr",
     "output_type": "stream",
     "text": [
      "127.0.0.1 - - [14/Apr/2022 13:08:05] \"POST / HTTP/1.1\" 200 -\n",
      "127.0.0.1 - - [14/Apr/2022 13:19:15] \"OPTIONS / HTTP/1.1\" 200 -\n"
     ]
    },
    {
     "name": "stdout",
     "output_type": "stream",
     "text": [
      "{'name_customer': 'ITWA in', 'business_code': 'CA02', 'cust_number': 140106181, 'clear_date': '2019-12-04', 'buisness_year': 2019, 'doc_id': '2960581231', 'posting_date': '2019-09-20', 'due_in_date': '2019-10-04', 'baseline_create_date': '2019-09-24', 'cust_payment_terms': 'CA10', 'converted_usd': 17558.4136}\n",
      "{'name_customer': 'ITWA in', 'business_code': 'CA02', 'cust_number': 140106181, 'clear_date': '2019-12-04', 'buisness_year': 2019, 'doc_id': '2960581231', 'posting_date': '2019-09-20', 'due_in_date': '2019-10-04', 'baseline_create_date': '2019-09-24', 'cust_payment_terms': 'CA10', 'converted_usd': 17558.4136}\n",
      "Predict\n"
     ]
    },
    {
     "name": "stderr",
     "output_type": "stream",
     "text": [
      "127.0.0.1 - - [14/Apr/2022 13:19:15] \"POST / HTTP/1.1\" 200 -\n",
      "127.0.0.1 - - [14/Apr/2022 13:22:32] \"OPTIONS / HTTP/1.1\" 200 -\n",
      "127.0.0.1 - - [14/Apr/2022 13:22:49] \"OPTIONS / HTTP/1.1\" 200 -\n"
     ]
    },
    {
     "name": "stdout",
     "output_type": "stream",
     "text": [
      "{'name_customer': 'PIO associates', 'business_code': 'U001', 'cust_number': 200769623, 'clear_date': '2019-11-12', 'buisness_year': 2019, 'doc_id': '1930083373', 'posting_date': '2019-11-01', 'due_in_date': '2019-11-16', 'baseline_create_date': '2019-11-01', 'cust_payment_terms': 'NAH4', 'converted_usd': 7358.49}\n",
      "{'name_customer': 'PIO associates', 'business_code': 'U001', 'cust_number': 200769623, 'clear_date': '2019-11-12', 'buisness_year': 2019, 'doc_id': '1930083373', 'posting_date': '2019-11-01', 'due_in_date': '2019-11-16', 'baseline_create_date': '2019-11-01', 'cust_payment_terms': 'NAH4', 'converted_usd': 7358.49}\n",
      "Predict\n"
     ]
    },
    {
     "name": "stderr",
     "output_type": "stream",
     "text": [
      "127.0.0.1 - - [14/Apr/2022 13:22:50] \"POST / HTTP/1.1\" 200 -\n",
      "127.0.0.1 - - [14/Apr/2022 15:11:19] \"OPTIONS / HTTP/1.1\" 200 -\n"
     ]
    },
    {
     "name": "stdout",
     "output_type": "stream",
     "text": [
      "{'name_customer': 'PIO associates', 'business_code': 'U001', 'cust_number': 200769623, 'clear_date': '2019-06-18', 'buisness_year': 2019, 'doc_id': '1929439637', 'posting_date': '2019-06-07', 'due_in_date': '2019-06-22', 'baseline_create_date': '2019-06-07', 'cust_payment_terms': 'NAH4', 'converted_usd': 15995.04}\n",
      "{'name_customer': 'PIO associates', 'business_code': 'U001', 'cust_number': 200769623, 'clear_date': '2019-06-18', 'buisness_year': 2019, 'doc_id': '1929439637', 'posting_date': '2019-06-07', 'due_in_date': '2019-06-22', 'baseline_create_date': '2019-06-07', 'cust_payment_terms': 'NAH4', 'converted_usd': 15995.04}\n",
      "Predict\n"
     ]
    },
    {
     "name": "stderr",
     "output_type": "stream",
     "text": [
      "127.0.0.1 - - [14/Apr/2022 15:11:19] \"POST / HTTP/1.1\" 200 -\n",
      "127.0.0.1 - - [14/Apr/2022 15:12:54] \"OPTIONS / HTTP/1.1\" 200 -\n"
     ]
    },
    {
     "name": "stdout",
     "output_type": "stream",
     "text": [
      "{'name_customer': 'GODL corp', 'business_code': 'U001', 'cust_number': 200762301, 'clear_date': '2019-03-06', 'buisness_year': 2019, 'doc_id': '1928819386', 'posting_date': '2019-02-20', 'due_in_date': '2019-03-07', 'baseline_create_date': '2019-02-20', 'cust_payment_terms': 'NAC6', 'converted_usd': 28.63}\n",
      "{'name_customer': 'GODL corp', 'business_code': 'U001', 'cust_number': 200762301, 'clear_date': '2019-03-06', 'buisness_year': 2019, 'doc_id': '1928819386', 'posting_date': '2019-02-20', 'due_in_date': '2019-03-07', 'baseline_create_date': '2019-02-20', 'cust_payment_terms': 'NAC6', 'converted_usd': 28.63}\n",
      "Predict\n"
     ]
    },
    {
     "name": "stderr",
     "output_type": "stream",
     "text": [
      "127.0.0.1 - - [14/Apr/2022 15:12:54] \"POST / HTTP/1.1\" 200 -\n",
      "127.0.0.1 - - [14/Apr/2022 15:13:30] \"OPTIONS / HTTP/1.1\" 200 -\n"
     ]
    },
    {
     "name": "stdout",
     "output_type": "stream",
     "text": [
      "{'name_customer': 'AM corporation', 'business_code': 'U001', 'cust_number': 200743129, 'clear_date': '2019-01-22', 'buisness_year': 2019, 'doc_id': '1928550622', 'posting_date': '2019-01-02', 'due_in_date': '2019-01-17', 'baseline_create_date': '2019-01-02', 'cust_payment_terms': 'NAA8', 'converted_usd': 103147.37}\n",
      "{'name_customer': 'AM corporation', 'business_code': 'U001', 'cust_number': 200743129, 'clear_date': '2019-01-22', 'buisness_year': 2019, 'doc_id': '1928550622', 'posting_date': '2019-01-02', 'due_in_date': '2019-01-17', 'baseline_create_date': '2019-01-02', 'cust_payment_terms': 'NAA8', 'converted_usd': 103147.37}\n",
      "Predict\n"
     ]
    },
    {
     "name": "stderr",
     "output_type": "stream",
     "text": [
      "127.0.0.1 - - [14/Apr/2022 15:13:31] \"POST / HTTP/1.1\" 200 -\n",
      "127.0.0.1 - - [14/Apr/2022 15:26:08] \"OPTIONS / HTTP/1.1\" 200 -\n",
      "[2022-04-14 15:26:08,378] ERROR in app: Exception on / [POST]\n",
      "Traceback (most recent call last):\n",
      "  File \"C:\\Users\\Abhishek\\anaconda3\\lib\\site-packages\\flask\\app.py\", line 2447, in wsgi_app\n",
      "    response = self.full_dispatch_request()\n",
      "  File \"C:\\Users\\Abhishek\\anaconda3\\lib\\site-packages\\flask\\app.py\", line 1952, in full_dispatch_request\n",
      "    rv = self.handle_user_exception(e)\n",
      "  File \"C:\\Users\\Abhishek\\anaconda3\\lib\\site-packages\\flask_cors\\extension.py\", line 165, in wrapped_function\n",
      "    return cors_after_request(app.make_response(f(*args, **kwargs)))\n",
      "  File \"C:\\Users\\Abhishek\\anaconda3\\lib\\site-packages\\flask\\app.py\", line 1821, in handle_user_exception\n",
      "    reraise(exc_type, exc_value, tb)\n",
      "  File \"C:\\Users\\Abhishek\\anaconda3\\lib\\site-packages\\flask\\_compat.py\", line 39, in reraise\n",
      "    raise value\n",
      "  File \"C:\\Users\\Abhishek\\anaconda3\\lib\\site-packages\\flask\\app.py\", line 1950, in full_dispatch_request\n",
      "    rv = self.dispatch_request()\n",
      "  File \"C:\\Users\\Abhishek\\anaconda3\\lib\\site-packages\\flask\\app.py\", line 1936, in dispatch_request\n",
      "    return self.view_functions[rule.endpoint](**req.view_args)\n",
      "  File \"C:\\Users\\Abhishek\\AppData\\Local\\Temp/ipykernel_19356/4224947579.py\", line 18, in home\n",
      "    clear_date = request.json['clear_date']\n",
      "KeyError: 'clear_date'\n",
      "127.0.0.1 - - [14/Apr/2022 15:26:08] \"POST / HTTP/1.1\" 500 -\n"
     ]
    },
    {
     "name": "stdout",
     "output_type": "stream",
     "text": [
      "{'name_customer': 'COAS trust', 'business_code': 'U001', 'cust_number': 200418007, 'buisness_year': 2020, 'doc_id': '1930610806', 'posting_date': '2020-03-11', 'due_in_date': '2020-03-26', 'baseline_create_date': '2020-03-11', 'cust_payment_terms': 'NAA8', 'converted_usd': 3525.59}\n"
     ]
    },
    {
     "name": "stderr",
     "output_type": "stream",
     "text": [
      "127.0.0.1 - - [14/Apr/2022 15:26:25] \"OPTIONS / HTTP/1.1\" 200 -\n",
      "[2022-04-14 15:26:25,584] ERROR in app: Exception on / [POST]\n",
      "Traceback (most recent call last):\n",
      "  File \"C:\\Users\\Abhishek\\anaconda3\\lib\\site-packages\\flask\\app.py\", line 2447, in wsgi_app\n",
      "    response = self.full_dispatch_request()\n",
      "  File \"C:\\Users\\Abhishek\\anaconda3\\lib\\site-packages\\flask\\app.py\", line 1952, in full_dispatch_request\n",
      "    rv = self.handle_user_exception(e)\n",
      "  File \"C:\\Users\\Abhishek\\anaconda3\\lib\\site-packages\\flask_cors\\extension.py\", line 165, in wrapped_function\n",
      "    return cors_after_request(app.make_response(f(*args, **kwargs)))\n",
      "  File \"C:\\Users\\Abhishek\\anaconda3\\lib\\site-packages\\flask\\app.py\", line 1821, in handle_user_exception\n",
      "    reraise(exc_type, exc_value, tb)\n",
      "  File \"C:\\Users\\Abhishek\\anaconda3\\lib\\site-packages\\flask\\_compat.py\", line 39, in reraise\n",
      "    raise value\n",
      "  File \"C:\\Users\\Abhishek\\anaconda3\\lib\\site-packages\\flask\\app.py\", line 1950, in full_dispatch_request\n",
      "    rv = self.dispatch_request()\n",
      "  File \"C:\\Users\\Abhishek\\anaconda3\\lib\\site-packages\\flask\\app.py\", line 1936, in dispatch_request\n",
      "    return self.view_functions[rule.endpoint](**req.view_args)\n",
      "  File \"C:\\Users\\Abhishek\\AppData\\Local\\Temp/ipykernel_19356/4224947579.py\", line 18, in home\n",
      "    clear_date = request.json['clear_date']\n",
      "KeyError: 'clear_date'\n",
      "127.0.0.1 - - [14/Apr/2022 15:26:25] \"POST / HTTP/1.1\" 500 -\n"
     ]
    },
    {
     "name": "stdout",
     "output_type": "stream",
     "text": [
      "{'name_customer': 'COAS trust', 'business_code': 'U001', 'cust_number': 200418007, 'buisness_year': 2020, 'doc_id': '1930610806', 'posting_date': '2020-03-11', 'due_in_date': '2020-03-26', 'baseline_create_date': '2020-03-11', 'cust_payment_terms': 'NAA8', 'converted_usd': 3525.59}\n"
     ]
    },
    {
     "name": "stderr",
     "output_type": "stream",
     "text": [
      "127.0.0.1 - - [14/Apr/2022 21:43:21] \"OPTIONS / HTTP/1.1\" 200 -\n",
      "[2022-04-14 21:43:21,863] ERROR in app: Exception on / [POST]\n",
      "Traceback (most recent call last):\n",
      "  File \"C:\\Users\\Abhishek\\anaconda3\\lib\\site-packages\\flask\\app.py\", line 2447, in wsgi_app\n",
      "    response = self.full_dispatch_request()\n",
      "  File \"C:\\Users\\Abhishek\\anaconda3\\lib\\site-packages\\flask\\app.py\", line 1952, in full_dispatch_request\n",
      "    rv = self.handle_user_exception(e)\n",
      "  File \"C:\\Users\\Abhishek\\anaconda3\\lib\\site-packages\\flask_cors\\extension.py\", line 165, in wrapped_function\n",
      "    return cors_after_request(app.make_response(f(*args, **kwargs)))\n",
      "  File \"C:\\Users\\Abhishek\\anaconda3\\lib\\site-packages\\flask\\app.py\", line 1821, in handle_user_exception\n",
      "    reraise(exc_type, exc_value, tb)\n",
      "  File \"C:\\Users\\Abhishek\\anaconda3\\lib\\site-packages\\flask\\_compat.py\", line 39, in reraise\n",
      "    raise value\n",
      "  File \"C:\\Users\\Abhishek\\anaconda3\\lib\\site-packages\\flask\\app.py\", line 1950, in full_dispatch_request\n",
      "    rv = self.dispatch_request()\n",
      "  File \"C:\\Users\\Abhishek\\anaconda3\\lib\\site-packages\\flask\\app.py\", line 1936, in dispatch_request\n",
      "    return self.view_functions[rule.endpoint](**req.view_args)\n",
      "  File \"C:\\Users\\Abhishek\\AppData\\Local\\Temp/ipykernel_19356/4224947579.py\", line 15, in home\n",
      "    business_code = request.json[\"business_code\"]\n",
      "KeyError: 'business_code'\n",
      "127.0.0.1 - - [14/Apr/2022 21:43:21] \"POST / HTTP/1.1\" 500 -\n"
     ]
    },
    {
     "name": "stdout",
     "output_type": "stream",
     "text": [
      "{'name_customer': '', 'cust_payment_terms': ''}\n"
     ]
    },
    {
     "name": "stderr",
     "output_type": "stream",
     "text": [
      "127.0.0.1 - - [14/Apr/2022 22:14:33] \"OPTIONS / HTTP/1.1\" 200 -\n"
     ]
    },
    {
     "name": "stdout",
     "output_type": "stream",
     "text": [
      "{'name_customer': 'PIO associates', 'business_code': 'U001', 'cust_number': 200769623, 'clear_date': '2020-02-11', 'buisness_year': 2020, 'doc_id': '1930438491', 'posting_date': '2020-01-26', 'due_in_date': '2020-02-10', 'baseline_create_date': '2020-01-26', 'cust_payment_terms': 'NAH4', 'converted_usd': 54273.28}\n",
      "{'name_customer': 'PIO associates', 'business_code': 'U001', 'cust_number': 200769623, 'clear_date': '2020-02-11', 'buisness_year': 2020, 'doc_id': '1930438491', 'posting_date': '2020-01-26', 'due_in_date': '2020-02-10', 'baseline_create_date': '2020-01-26', 'cust_payment_terms': 'NAH4', 'converted_usd': 54273.28}\n",
      "Predict\n"
     ]
    },
    {
     "name": "stderr",
     "output_type": "stream",
     "text": [
      "127.0.0.1 - - [14/Apr/2022 22:14:33] \"POST / HTTP/1.1\" 200 -\n"
     ]
    }
   ],
   "source": [
    "from flask import Flask, redirect, url_for, render_template, request,jsonify, make_response\n",
    "import New_Bucket\n",
    "import pandas as pd\n",
    "from flask_cors import CORS\n",
    "\n",
    "data = pd.DataFrame()\n",
    "app = Flask(__name__)\n",
    "CORS(app)\n",
    "\n",
    "@app.route(\"/\",methods=[\"POST\", \"GET\"])\n",
    "def home():\n",
    "    \n",
    "    if request.method == \"POST\":\n",
    "        print(request.json)\n",
    "        business_code = request.json[\"business_code\"]\n",
    "        cust_number = request.json['cust_number']\n",
    "        name_customer = request.json['name_customer']\n",
    "        clear_date = request.json['clear_date']\n",
    "        buisness_year = int(request.json['buisness_year'])\n",
    "        doc_id = int(request.json['doc_id'])\n",
    "        posting_date = request.json['posting_date']\n",
    "        due_in_date = request.json['due_in_date']\n",
    "        baseline_create_date = request.json['baseline_create_date']\n",
    "        cust_payment_terms = request.json['cust_payment_terms']\n",
    "        converted_usd = float(request.json['converted_usd'])\n",
    " \n",
    "        data['business_code'] = [business_code]\n",
    "        data['cust_number'] = [cust_number]\n",
    "        data['name_customer'] = [name_customer]\n",
    "        data['clear_date'] = [clear_date]\n",
    "        data['buisness_year'] = [buisness_year]\n",
    "        data['doc_id'] = [doc_id]\n",
    "        data['posting_date'] =[posting_date]\n",
    "        data['due_in_date'] = [due_in_date]\n",
    "        data['baseline_create_date'] = [baseline_create_date]\n",
    "        data['cust_payment_terms'] = [cust_payment_terms]\n",
    "        data['converted_usd'] = [converted_usd]\n",
    "        \n",
    "        \n",
    "        print(request.json)\n",
    "       \n",
    "        \n",
    "        response = make_response(jsonify(New_Bucket.predict(data)),200)\n",
    "        response.headers[\"Content-Type\"] = \"application/json\"\n",
    "        return response\n",
    "    else:\n",
    "        return render_template(\"index1.html\")\n",
    "        \n",
    "@app.route(\"/get_prediction\", methods=[\"GET\",'POST'])\n",
    "def get_prediction():    \n",
    "    if request.method == \"POST\":\n",
    "        doc_id_list = list(request.json[\"data\"])\n",
    "        print(doc_id_list)\n",
    "        response = make_response(jsonify(New_Bucket.doc_id_bucket(doc_id_list)),200)\n",
    "        response.headers[\"Access-Control-Allow-Origin\"]=\"*\"\n",
    "        response.headers[\"Content-Type\"] = \"application/json\"\n",
    "        return response\n",
    "    else:\n",
    "        return render_template(\"index2.html\")\n",
    "    \n",
    "\n",
    "@app.route(\"/all\", methods=[\"GET\",'POST'])\n",
    "def alll():    \n",
    "    if request.method == \"POST\":        \n",
    "        response = make_response(jsonify(New_Bucket.alll()),200)       \n",
    "        response.headers[\"Content-Type\"] = \"application/json\"\n",
    "        return response\n",
    "    else:\n",
    "        return render_template(\"index3.html\")    \n",
    "    \n",
    "@app.route(\"/login\", methods=[\"POST\", \"GET\"])\n",
    "def login():\n",
    "    if request.method == \"POST\":\n",
    "        user = request.form[\"nm\"]\n",
    "        return redirect(url_for(\"user\", usr=user))\n",
    "    else:\n",
    "        return render_template(\"login.html\")\n",
    "\n",
    "@app.route(\"/<usr>\")\n",
    "def user(usr):\n",
    "    return f\"<h1>{usr}</h1>\"\n",
    "\n",
    "if __name__ == \"__main__\":\n",
    "    app.run()"
   ]
  },
  {
   "cell_type": "code",
   "execution_count": 2,
   "id": "287fe5bc",
   "metadata": {},
   "outputs": [
    {
     "name": "stdout",
     "output_type": "stream",
     "text": [
      "Collecting flask_cors\n",
      "  Downloading Flask_Cors-3.0.10-py2.py3-none-any.whl (14 kB)\n",
      "Requirement already satisfied: Six in c:\\users\\abhishek\\anaconda3\\lib\\site-packages (from flask_cors) (1.16.0)\n",
      "Requirement already satisfied: Flask>=0.9 in c:\\users\\abhishek\\anaconda3\\lib\\site-packages (from flask_cors) (1.1.2)\n",
      "Requirement already satisfied: click>=5.1 in c:\\users\\abhishek\\anaconda3\\lib\\site-packages (from Flask>=0.9->flask_cors) (8.0.3)\n",
      "Requirement already satisfied: itsdangerous>=0.24 in c:\\users\\abhishek\\anaconda3\\lib\\site-packages (from Flask>=0.9->flask_cors) (2.0.1)\n",
      "Requirement already satisfied: Jinja2>=2.10.1 in c:\\users\\abhishek\\anaconda3\\lib\\site-packages (from Flask>=0.9->flask_cors) (2.11.3)\n",
      "Requirement already satisfied: Werkzeug>=0.15 in c:\\users\\abhishek\\anaconda3\\lib\\site-packages (from Flask>=0.9->flask_cors) (2.0.2)\n",
      "Requirement already satisfied: colorama in c:\\users\\abhishek\\anaconda3\\lib\\site-packages (from click>=5.1->Flask>=0.9->flask_cors) (0.4.4)\n",
      "Requirement already satisfied: MarkupSafe>=0.23 in c:\\users\\abhishek\\anaconda3\\lib\\site-packages (from Jinja2>=2.10.1->Flask>=0.9->flask_cors) (1.1.1)\n",
      "Installing collected packages: flask-cors\n",
      "Successfully installed flask-cors-3.0.10\n"
     ]
    }
   ],
   "source": [
    "!pip install flask_cors"
   ]
  },
  {
   "cell_type": "code",
   "execution_count": null,
   "id": "00d885e9",
   "metadata": {},
   "outputs": [],
   "source": []
  }
 ],
 "metadata": {
  "kernelspec": {
   "display_name": "Python 3 (ipykernel)",
   "language": "python",
   "name": "python3"
  },
  "language_info": {
   "codemirror_mode": {
    "name": "ipython",
    "version": 3
   },
   "file_extension": ".py",
   "mimetype": "text/x-python",
   "name": "python",
   "nbconvert_exporter": "python",
   "pygments_lexer": "ipython3",
   "version": "3.9.7"
  }
 },
 "nbformat": 4,
 "nbformat_minor": 5
}
